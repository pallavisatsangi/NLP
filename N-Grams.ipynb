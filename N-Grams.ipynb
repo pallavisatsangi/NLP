{
 "cells": [
  {
   "cell_type": "code",
   "execution_count": 2,
   "id": "c649bd22",
   "metadata": {},
   "outputs": [
    {
     "name": "stdout",
     "output_type": "stream",
     "text": [
      "Bigrams: [('Learn', 'NLP'), ('NLP', 'to'), ('to', 'gain'), ('gain', 'understanding'), ('understanding', 'of'), ('of', 'LLM'), ('LLM', \"'s\")]\n",
      "Trigrams: [('Learn', 'NLP', 'to'), ('NLP', 'to', 'gain'), ('to', 'gain', 'understanding'), ('gain', 'understanding', 'of'), ('understanding', 'of', 'LLM'), ('of', 'LLM', \"'s\")]\n",
      "4-grams: [('Learn', 'NLP', 'to', 'gain'), ('NLP', 'to', 'gain', 'understanding'), ('to', 'gain', 'understanding', 'of'), ('gain', 'understanding', 'of', 'LLM'), ('understanding', 'of', 'LLM', \"'s\")]\n",
      "5-grams: [('Learn', 'NLP', 'to', 'gain', 'understanding'), ('NLP', 'to', 'gain', 'understanding', 'of'), ('to', 'gain', 'understanding', 'of', 'LLM'), ('gain', 'understanding', 'of', 'LLM', \"'s\")]\n"
     ]
    }
   ],
   "source": [
    "import nltk\n",
    "from nltk.util import ngrams\n",
    "\n",
    "# Sample text\n",
    "text = \"Learn NLP to gain understanding of LLM's\"\n",
    "\n",
    "# Tokenize the text into words\n",
    "tokens = nltk.word_tokenize(text)\n",
    "\n",
    "# Generate bigrams (2-grams)\n",
    "bigrams = list(ngrams(tokens, 2))\n",
    "\n",
    "# Generate trigrams (3-grams)\n",
    "trigrams = list(ngrams(tokens, 3))\n",
    "\n",
    "# Generate 4-grams\n",
    "fourgrams = list(ngrams(tokens, 4))\n",
    "\n",
    "# Generate 5-grams\n",
    "fivegrams = list(ngrams(tokens, 5))\n",
    "\n",
    "# Print the generated N-grams\n",
    "print(\"Bigrams:\", bigrams)\n",
    "print(\"Trigrams:\", trigrams)\n",
    "print(\"4-grams:\", fourgrams)\n",
    "print(\"5-grams:\", fivegrams)\n"
   ]
  },
  {
   "cell_type": "code",
   "execution_count": null,
   "id": "ca138752",
   "metadata": {},
   "outputs": [],
   "source": []
  }
 ],
 "metadata": {
  "kernelspec": {
   "display_name": "Python 3 (ipykernel)",
   "language": "python",
   "name": "python3"
  },
  "language_info": {
   "codemirror_mode": {
    "name": "ipython",
    "version": 3
   },
   "file_extension": ".py",
   "mimetype": "text/x-python",
   "name": "python",
   "nbconvert_exporter": "python",
   "pygments_lexer": "ipython3",
   "version": "3.11.4"
  }
 },
 "nbformat": 4,
 "nbformat_minor": 5
}
